{
 "cells": [
  {
   "attachments": {},
   "cell_type": "markdown",
   "metadata": {},
   "source": [
    "# Obtain data from edge-ml"
   ]
  },
  {
   "cell_type": "code",
   "execution_count": 30,
   "metadata": {},
   "outputs": [],
   "source": [
    "from edgeml import DatasetReceiver"
   ]
  },
  {
   "attachments": {},
   "cell_type": "markdown",
   "metadata": {},
   "source": [
    "### 1. Create a project\n",
    "This will also pull the metadata from the server.\n",
    "Here you need the *read*-key.\n",
    "Make sure there is not trailing */* in your URL."
   ]
  },
  {
   "cell_type": "code",
   "execution_count": 39,
   "metadata": {},
   "outputs": [
    {
     "name": "stdout",
     "output_type": "stream",
     "text": [
      "Dataset - Name: W_001, ID: 645a255bdd19d537f2a50126, Metadata: {}\n",
      "Dataset - Name: W_004, ID: 645a255b7d9569d03843a12b, Metadata: {}\n",
      "Dataset - Name: Square_003, ID: 645a255b2ce253c26b52426c, Metadata: {}\n",
      "Dataset - Name: Square_004, ID: 645a255b1d6af5e7ed04575f, Metadata: {}\n",
      "Dataset - Name: Square_002, ID: 645a255bc21261d4cbdc990d, Metadata: {}\n",
      "Dataset - Name: W_002, ID: 645a255b3ebe0af02b211d5d, Metadata: {}\n",
      "Dataset - Name: W_003, ID: 645a255b074737af782167e2, Metadata: {}\n",
      "Dataset - Name: Square_001, ID: 645a255bbacf5ab8ff044304, Metadata: {}\n",
      "Dataset - Name: edgemlDemo, ID: 64635a79a7a7513e8ac92d32, Metadata: {'langauge': 'python'}\n",
      "Dataset - Name: edgemlDemo, ID: 64635a7b6fec1d2800b1cd06, Metadata: {'langauge': 'python'}\n"
     ]
    }
   ],
   "source": [
    "project = DatasetReceiver(\"https://edge-ml-beta.dmz.teco.edu\", \"8c051972b56e6b4ad6bd0bf573da580f\")\n",
    "print(project)"
   ]
  },
  {
   "attachments": {},
   "cell_type": "markdown",
   "metadata": {},
   "source": [
    "### 2. Actually obtain data\n",
    "Until now, we only have metadata available. We need to pull the actual time-series data using one of the following methods:"
   ]
  },
  {
   "attachments": {},
   "cell_type": "markdown",
   "metadata": {},
   "source": [
    "*We can load the data for a single timeSeries*"
   ]
  },
  {
   "cell_type": "code",
   "execution_count": 32,
   "metadata": {},
   "outputs": [
    {
     "data": {
      "text/html": [
       "<div>\n",
       "<style scoped>\n",
       "    .dataframe tbody tr th:only-of-type {\n",
       "        vertical-align: middle;\n",
       "    }\n",
       "\n",
       "    .dataframe tbody tr th {\n",
       "        vertical-align: top;\n",
       "    }\n",
       "\n",
       "    .dataframe thead th {\n",
       "        text-align: right;\n",
       "    }\n",
       "</style>\n",
       "<table border=\"1\" class=\"dataframe\">\n",
       "  <thead>\n",
       "    <tr style=\"text-align: right;\">\n",
       "      <th></th>\n",
       "      <th>time</th>\n",
       "      <th>x</th>\n",
       "    </tr>\n",
       "  </thead>\n",
       "  <tbody>\n",
       "    <tr>\n",
       "      <th>0</th>\n",
       "      <td>1970-01-01 00:10:23.339</td>\n",
       "      <td>-823.0</td>\n",
       "    </tr>\n",
       "    <tr>\n",
       "      <th>1</th>\n",
       "      <td>1970-01-01 00:10:23.378</td>\n",
       "      <td>-819.0</td>\n",
       "    </tr>\n",
       "    <tr>\n",
       "      <th>2</th>\n",
       "      <td>1970-01-01 00:10:23.418</td>\n",
       "      <td>-770.0</td>\n",
       "    </tr>\n",
       "    <tr>\n",
       "      <th>3</th>\n",
       "      <td>1970-01-01 00:10:23.458</td>\n",
       "      <td>-746.0</td>\n",
       "    </tr>\n",
       "    <tr>\n",
       "      <th>4</th>\n",
       "      <td>1970-01-01 00:10:23.497</td>\n",
       "      <td>-783.0</td>\n",
       "    </tr>\n",
       "  </tbody>\n",
       "</table>\n",
       "</div>"
      ],
      "text/plain": [
       "                     time      x\n",
       "0 1970-01-01 00:10:23.339 -823.0\n",
       "1 1970-01-01 00:10:23.378 -819.0\n",
       "2 1970-01-01 00:10:23.418 -770.0\n",
       "3 1970-01-01 00:10:23.458 -746.0\n",
       "4 1970-01-01 00:10:23.497 -783.0"
      ]
     },
     "execution_count": 32,
     "metadata": {},
     "output_type": "execute_result"
    }
   ],
   "source": [
    "\n",
    "project.datasets[0].timeSeries[0].loadData()\n",
    "project.datasets[0].timeSeries[0].data.head()\n"
   ]
  },
  {
   "attachments": {},
   "cell_type": "markdown",
   "metadata": {},
   "source": [
    "*For a single dataset*"
   ]
  },
  {
   "cell_type": "code",
   "execution_count": 33,
   "metadata": {},
   "outputs": [
    {
     "data": {
      "text/html": [
       "<div>\n",
       "<style scoped>\n",
       "    .dataframe tbody tr th:only-of-type {\n",
       "        vertical-align: middle;\n",
       "    }\n",
       "\n",
       "    .dataframe tbody tr th {\n",
       "        vertical-align: top;\n",
       "    }\n",
       "\n",
       "    .dataframe thead th {\n",
       "        text-align: right;\n",
       "    }\n",
       "</style>\n",
       "<table border=\"1\" class=\"dataframe\">\n",
       "  <thead>\n",
       "    <tr style=\"text-align: right;\">\n",
       "      <th></th>\n",
       "      <th>time</th>\n",
       "      <th>x</th>\n",
       "      <th>y</th>\n",
       "      <th>z</th>\n",
       "      <th>Gestures</th>\n",
       "    </tr>\n",
       "  </thead>\n",
       "  <tbody>\n",
       "    <tr>\n",
       "      <th>0</th>\n",
       "      <td>1970-01-01 00:10:23.339</td>\n",
       "      <td>-823.0</td>\n",
       "      <td>-45.0</td>\n",
       "      <td>4025.0</td>\n",
       "      <td></td>\n",
       "    </tr>\n",
       "    <tr>\n",
       "      <th>1</th>\n",
       "      <td>1970-01-01 00:10:23.378</td>\n",
       "      <td>-819.0</td>\n",
       "      <td>-158.0</td>\n",
       "      <td>4075.0</td>\n",
       "      <td></td>\n",
       "    </tr>\n",
       "    <tr>\n",
       "      <th>2</th>\n",
       "      <td>1970-01-01 00:10:23.418</td>\n",
       "      <td>-770.0</td>\n",
       "      <td>-255.0</td>\n",
       "      <td>4116.0</td>\n",
       "      <td></td>\n",
       "    </tr>\n",
       "    <tr>\n",
       "      <th>3</th>\n",
       "      <td>1970-01-01 00:10:23.458</td>\n",
       "      <td>-746.0</td>\n",
       "      <td>-155.0</td>\n",
       "      <td>4059.0</td>\n",
       "      <td></td>\n",
       "    </tr>\n",
       "    <tr>\n",
       "      <th>4</th>\n",
       "      <td>1970-01-01 00:10:23.497</td>\n",
       "      <td>-783.0</td>\n",
       "      <td>-104.0</td>\n",
       "      <td>3963.0</td>\n",
       "      <td></td>\n",
       "    </tr>\n",
       "  </tbody>\n",
       "</table>\n",
       "</div>"
      ],
      "text/plain": [
       "                     time      x      y       z Gestures\n",
       "0 1970-01-01 00:10:23.339 -823.0  -45.0  4025.0         \n",
       "1 1970-01-01 00:10:23.378 -819.0 -158.0  4075.0         \n",
       "2 1970-01-01 00:10:23.418 -770.0 -255.0  4116.0         \n",
       "3 1970-01-01 00:10:23.458 -746.0 -155.0  4059.0         \n",
       "4 1970-01-01 00:10:23.497 -783.0 -104.0  3963.0         "
      ]
     },
     "execution_count": 33,
     "metadata": {},
     "output_type": "execute_result"
    }
   ],
   "source": [
    "project.datasets[0].loadData()\n",
    "project.datasets[0].data.head()"
   ]
  },
  {
   "attachments": {},
   "cell_type": "markdown",
   "metadata": {},
   "source": [
    "*Or for all datasets in the project*"
   ]
  },
  {
   "cell_type": "code",
   "execution_count": 34,
   "metadata": {},
   "outputs": [
    {
     "data": {
      "text/html": [
       "<div>\n",
       "<style scoped>\n",
       "    .dataframe tbody tr th:only-of-type {\n",
       "        vertical-align: middle;\n",
       "    }\n",
       "\n",
       "    .dataframe tbody tr th {\n",
       "        vertical-align: top;\n",
       "    }\n",
       "\n",
       "    .dataframe thead th {\n",
       "        text-align: right;\n",
       "    }\n",
       "</style>\n",
       "<table border=\"1\" class=\"dataframe\">\n",
       "  <thead>\n",
       "    <tr style=\"text-align: right;\">\n",
       "      <th></th>\n",
       "      <th>time</th>\n",
       "      <th>x</th>\n",
       "      <th>y</th>\n",
       "      <th>z</th>\n",
       "      <th>Gestures</th>\n",
       "    </tr>\n",
       "  </thead>\n",
       "  <tbody>\n",
       "    <tr>\n",
       "      <th>0</th>\n",
       "      <td>1970-01-01 00:10:23.339</td>\n",
       "      <td>-823.0</td>\n",
       "      <td>-45.0</td>\n",
       "      <td>4025.0</td>\n",
       "      <td></td>\n",
       "    </tr>\n",
       "    <tr>\n",
       "      <th>1</th>\n",
       "      <td>1970-01-01 00:10:23.378</td>\n",
       "      <td>-819.0</td>\n",
       "      <td>-158.0</td>\n",
       "      <td>4075.0</td>\n",
       "      <td></td>\n",
       "    </tr>\n",
       "    <tr>\n",
       "      <th>2</th>\n",
       "      <td>1970-01-01 00:10:23.418</td>\n",
       "      <td>-770.0</td>\n",
       "      <td>-255.0</td>\n",
       "      <td>4116.0</td>\n",
       "      <td></td>\n",
       "    </tr>\n",
       "    <tr>\n",
       "      <th>3</th>\n",
       "      <td>1970-01-01 00:10:23.458</td>\n",
       "      <td>-746.0</td>\n",
       "      <td>-155.0</td>\n",
       "      <td>4059.0</td>\n",
       "      <td></td>\n",
       "    </tr>\n",
       "    <tr>\n",
       "      <th>4</th>\n",
       "      <td>1970-01-01 00:10:23.497</td>\n",
       "      <td>-783.0</td>\n",
       "      <td>-104.0</td>\n",
       "      <td>3963.0</td>\n",
       "      <td></td>\n",
       "    </tr>\n",
       "  </tbody>\n",
       "</table>\n",
       "</div>"
      ],
      "text/plain": [
       "                     time      x      y       z Gestures\n",
       "0 1970-01-01 00:10:23.339 -823.0  -45.0  4025.0         \n",
       "1 1970-01-01 00:10:23.378 -819.0 -158.0  4075.0         \n",
       "2 1970-01-01 00:10:23.418 -770.0 -255.0  4116.0         \n",
       "3 1970-01-01 00:10:23.458 -746.0 -155.0  4059.0         \n",
       "4 1970-01-01 00:10:23.497 -783.0 -104.0  3963.0         "
      ]
     },
     "execution_count": 34,
     "metadata": {},
     "output_type": "execute_result"
    }
   ],
   "source": [
    "project.loadData()\n",
    "project.data[0].head()"
   ]
  },
  {
   "attachments": {},
   "cell_type": "markdown",
   "metadata": {},
   "source": [
    "# Upload data to edge-ml"
   ]
  },
  {
   "attachments": {},
   "cell_type": "markdown",
   "metadata": {},
   "source": [
    "### 1. Upload data using timestamps from the device\n",
    "Here you will need the *write*-key"
   ]
  },
  {
   "cell_type": "code",
   "execution_count": 35,
   "metadata": {},
   "outputs": [],
   "source": [
    "from edgeml.edgeml import DatasetCollector\n",
    "sender = DatasetCollector(url=\"https://edge-ml-beta.dmz.teco.edu\", apiKey=\"4e6159c9c77124d71f298e93f1ed7254\", name=\"edgemlDemo\", useDeviceTime=True, timeSeries=[\"accX\", \"accY\"], metaData={\"langauge\": \"python\"})\n"
   ]
  },
  {
   "cell_type": "code",
   "execution_count": 36,
   "metadata": {},
   "outputs": [
    {
     "data": {
      "text/plain": [
       "True"
      ]
     },
     "execution_count": 36,
     "metadata": {},
     "output_type": "execute_result"
    }
   ],
   "source": [
    "import time\n",
    "\n",
    "for i in range (100):\n",
    "    await sender.addDataPoint(name=\"accX\", value=i*0.1)\n",
    "    await sender.addDataPoint(name=\"accY\", value=i*0.5)\n",
    "    time.sleep(0.01)\n",
    "sender.onComplete()"
   ]
  },
  {
   "attachments": {},
   "cell_type": "markdown",
   "metadata": {},
   "source": [
    "### 2. Provide your own timestamps"
   ]
  },
  {
   "cell_type": "code",
   "execution_count": 37,
   "metadata": {},
   "outputs": [],
   "source": [
    "from edgeml.edgeml import DatasetCollector\n",
    "sender = DatasetCollector(url=\"https://edge-ml-beta.dmz.teco.edu\", apiKey=\"4e6159c9c77124d71f298e93f1ed7254\", name=\"edgemlDemo\", useDeviceTime=False, timeSeries=[\"accX\", \"accY\"], metaData={\"langauge\": \"python\"})\n"
   ]
  },
  {
   "cell_type": "code",
   "execution_count": 38,
   "metadata": {},
   "outputs": [
    {
     "data": {
      "text/plain": [
       "True"
      ]
     },
     "execution_count": 38,
     "metadata": {},
     "output_type": "execute_result"
    }
   ],
   "source": [
    "import time\n",
    "\n",
    "for i in range (100):\n",
    "    await sender.addDataPoint(timestamp=i*1000, name=\"accX\", value=i*0.1)\n",
    "    await sender.addDataPoint(timestamp=i*1000, name=\"accY\", value=i*0.5)\n",
    "    time.sleep(0.01)\n",
    "sender.onComplete()"
   ]
  }
 ],
 "metadata": {
  "kernelspec": {
   "display_name": "base",
   "language": "python",
   "name": "python3"
  },
  "language_info": {
   "codemirror_mode": {
    "name": "ipython",
    "version": 3
   },
   "file_extension": ".py",
   "mimetype": "text/x-python",
   "name": "python",
   "nbconvert_exporter": "python",
   "pygments_lexer": "ipython3",
   "version": "3.9.12"
  },
  "orig_nbformat": 4
 },
 "nbformat": 4,
 "nbformat_minor": 2
}
