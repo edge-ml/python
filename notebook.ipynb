{
 "cells": [
  {
   "cell_type": "code",
   "execution_count": 11,
   "metadata": {},
   "outputs": [],
   "source": [
    "import main as edgeml\n",
    "import requests as req\n",
    "import random\n",
    "import pandas as pd\n",
    "import tsfresh"
   ]
  },
  {
   "cell_type": "code",
   "execution_count": 12,
   "metadata": {},
   "outputs": [],
   "source": [
    "key = \"RuW7CkG0keGCn9OH7yG40XY3nZz4Vfdl+gUgvpeiqxOP1eIwCwg90BjMrQVQV5fz3/zK1zBZ4uP+WFelZUmYTw==\"\n",
    "startTime = 1618760115000\n",
    "collector = edgeml.datasetCollector(\"http://localhost\",\n",
    "                                    key,\n",
    "                                    \"Example Dataset\",\n",
    "                                    False)\n",
    "\n",
    "labels = [random.randint(1,3) for i in range(500)]\n",
    "for i in range(500):\n",
    "    collector.addDataPoint(\"Accelerometer\", random.randint(1,50)/10.0, startTime + i)\n",
    "\n",
    "collector.onComplete()"
   ]
  },
  {
   "cell_type": "code",
   "execution_count": 13,
   "metadata": {},
   "outputs": [
    {
     "name": "stdout",
     "output_type": "stream",
     "text": [
      "[{'timestamp': 1618760115000, 'datapoint': 1}, {'timestamp': 1618760115001, 'datapoint': 1.9}, {'timestamp': 1618760115002, 'datapoint': 4.8}, {'timestamp': 1618760115003, 'datapoint': 0.6}, {'timestamp': 1618760115004, 'datapoint': 4.3}, {'timestamp': 1618760115005, 'datapoint': 0.1}, {'timestamp': 1618760115006, 'datapoint': 4.8}, {'timestamp': 1618760115007, 'datapoint': 4.6}, {'timestamp': 1618760115008, 'datapoint': 4.7}, {'timestamp': 1618760115009, 'datapoint': 1.5}, {'timestamp': 1618760115010, 'datapoint': 3.4}, {'timestamp': 1618760115011, 'datapoint': 5}, {'timestamp': 1618760115012, 'datapoint': 2.7}, {'timestamp': 1618760115013, 'datapoint': 2.7}, {'timestamp': 1618760115014, 'datapoint': 2.2}, {'timestamp': 1618760115015, 'datapoint': 2.7}, {'timestamp': 1618760115016, 'datapoint': 4}, {'timestamp': 1618760115017, 'datapoint': 4.4}, {'timestamp': 1618760115018, 'datapoint': 4.6}, {'timestamp': 1618760115019, 'datapoint': 4.4}, {'timestamp': 1618760115020, 'datapoint': 1.3}, {'timestamp': 1618760115021, 'datapoint': 4.6}, {'timestamp': 1618760115022, 'datapoint': 4.3}, {'timestamp': 1618760115023, 'datapoint': 2.3}, {'timestamp': 1618760115024, 'datapoint': 3.1}, {'timestamp': 1618760115025, 'datapoint': 3.3}, {'timestamp': 1618760115026, 'datapoint': 3.2}, {'timestamp': 1618760115027, 'datapoint': 4.1}, {'timestamp': 1618760115028, 'datapoint': 2}, {'timestamp': 1618760115029, 'datapoint': 1.2}, {'timestamp': 1618760115030, 'datapoint': 1.7}, {'timestamp': 1618760115031, 'datapoint': 1}, {'timestamp': 1618760115032, 'datapoint': 1}, {'timestamp': 1618760115033, 'datapoint': 3.8}, {'timestamp': 1618760115034, 'datapoint': 5}, {'timestamp': 1618760115035, 'datapoint': 2.5}, {'timestamp': 1618760115036, 'datapoint': 0.1}, {'timestamp': 1618760115037, 'datapoint': 5}, {'timestamp': 1618760115038, 'datapoint': 0.6}, {'timestamp': 1618760115039, 'datapoint': 3.8}, {'timestamp': 1618760115040, 'datapoint': 0.1}, {'timestamp': 1618760115041, 'datapoint': 4.8}, {'timestamp': 1618760115042, 'datapoint': 0.9}, {'timestamp': 1618760115043, 'datapoint': 3.7}, {'timestamp': 1618760115044, 'datapoint': 4.5}, {'timestamp': 1618760115045, 'datapoint': 2.4}, {'timestamp': 1618760115046, 'datapoint': 1.2}, {'timestamp': 1618760115047, 'datapoint': 4.5}, {'timestamp': 1618760115048, 'datapoint': 0.6}, {'timestamp': 1618760115049, 'datapoint': 4.2}, {'timestamp': 1618760115050, 'datapoint': 3.3}, {'timestamp': 1618760115051, 'datapoint': 2.2}, {'timestamp': 1618760115052, 'datapoint': 1.5}, {'timestamp': 1618760115053, 'datapoint': 0.6}, {'timestamp': 1618760115054, 'datapoint': 0.8}, {'timestamp': 1618760115055, 'datapoint': 4.4}, {'timestamp': 1618760115056, 'datapoint': 4}, {'timestamp': 1618760115057, 'datapoint': 3.7}, {'timestamp': 1618760115058, 'datapoint': 3.8}, {'timestamp': 1618760115059, 'datapoint': 3.8}, {'timestamp': 1618760115060, 'datapoint': 0.2}, {'timestamp': 1618760115061, 'datapoint': 3.8}, {'timestamp': 1618760115062, 'datapoint': 4.9}, {'timestamp': 1618760115063, 'datapoint': 4.9}, {'timestamp': 1618760115064, 'datapoint': 0.9}, {'timestamp': 1618760115065, 'datapoint': 2.8}, {'timestamp': 1618760115066, 'datapoint': 3.4}, {'timestamp': 1618760115067, 'datapoint': 3.7}, {'timestamp': 1618760115068, 'datapoint': 3.3}, {'timestamp': 1618760115069, 'datapoint': 2.2}, {'timestamp': 1618760115070, 'datapoint': 4}, {'timestamp': 1618760115071, 'datapoint': 4.1}, {'timestamp': 1618760115072, 'datapoint': 1.7}, {'timestamp': 1618760115073, 'datapoint': 2.4}, {'timestamp': 1618760115074, 'datapoint': 4.4}, {'timestamp': 1618760115075, 'datapoint': 1.6}, {'timestamp': 1618760115076, 'datapoint': 1.6}, {'timestamp': 1618760115077, 'datapoint': 4.4}, {'timestamp': 1618760115078, 'datapoint': 3.8}, {'timestamp': 1618760115079, 'datapoint': 0.1}, {'timestamp': 1618760115080, 'datapoint': 3.6}, {'timestamp': 1618760115081, 'datapoint': 4.9}, {'timestamp': 1618760115082, 'datapoint': 4.6}, {'timestamp': 1618760115083, 'datapoint': 0.2}, {'timestamp': 1618760115084, 'datapoint': 1.8}, {'timestamp': 1618760115085, 'datapoint': 4}, {'timestamp': 1618760115086, 'datapoint': 4.6}, {'timestamp': 1618760115087, 'datapoint': 0.6}, {'timestamp': 1618760115088, 'datapoint': 1.7}, {'timestamp': 1618760115089, 'datapoint': 4}, {'timestamp': 1618760115090, 'datapoint': 3.5}, {'timestamp': 1618760115091, 'datapoint': 3.6}, {'timestamp': 1618760115092, 'datapoint': 1.1}, {'timestamp': 1618760115093, 'datapoint': 0.3}, {'timestamp': 1618760115094, 'datapoint': 3.8}, {'timestamp': 1618760115095, 'datapoint': 0.4}, {'timestamp': 1618760115096, 'datapoint': 1.4}, {'timestamp': 1618760115097, 'datapoint': 4.1}, {'timestamp': 1618760115098, 'datapoint': 1.3}, {'timestamp': 1618760115099, 'datapoint': 1}, {'timestamp': 1618760115100, 'datapoint': 3}, {'timestamp': 1618760115101, 'datapoint': 2.3}, {'timestamp': 1618760115102, 'datapoint': 1.2}, {'timestamp': 1618760115103, 'datapoint': 1.9}, {'timestamp': 1618760115104, 'datapoint': 4.4}, {'timestamp': 1618760115105, 'datapoint': 0.4}, {'timestamp': 1618760115106, 'datapoint': 3.5}, {'timestamp': 1618760115107, 'datapoint': 0.7}, {'timestamp': 1618760115108, 'datapoint': 1.4}, {'timestamp': 1618760115109, 'datapoint': 2}, {'timestamp': 1618760115110, 'datapoint': 3.5}, {'timestamp': 1618760115111, 'datapoint': 0.3}, {'timestamp': 1618760115112, 'datapoint': 1.7}, {'timestamp': 1618760115113, 'datapoint': 4.4}, {'timestamp': 1618760115114, 'datapoint': 2.5}, {'timestamp': 1618760115115, 'datapoint': 0.5}, {'timestamp': 1618760115116, 'datapoint': 1.8}, {'timestamp': 1618760115117, 'datapoint': 4}, {'timestamp': 1618760115118, 'datapoint': 4.9}, {'timestamp': 1618760115119, 'datapoint': 4}, {'timestamp': 1618760115120, 'datapoint': 1.1}, {'timestamp': 1618760115121, 'datapoint': 4.2}, {'timestamp': 1618760115122, 'datapoint': 3.8}, {'timestamp': 1618760115123, 'datapoint': 2.8}, {'timestamp': 1618760115124, 'datapoint': 0.7}, {'timestamp': 1618760115125, 'datapoint': 4.6}, {'timestamp': 1618760115126, 'datapoint': 0.5}, {'timestamp': 1618760115127, 'datapoint': 1.4}, {'timestamp': 1618760115128, 'datapoint': 3.6}, {'timestamp': 1618760115129, 'datapoint': 4.3}, {'timestamp': 1618760115130, 'datapoint': 4.9}, {'timestamp': 1618760115131, 'datapoint': 4.5}, {'timestamp': 1618760115132, 'datapoint': 1.2}, {'timestamp': 1618760115133, 'datapoint': 4.8}, {'timestamp': 1618760115134, 'datapoint': 3.7}, {'timestamp': 1618760115135, 'datapoint': 0.8}, {'timestamp': 1618760115136, 'datapoint': 2.5}, {'timestamp': 1618760115137, 'datapoint': 3.3}, {'timestamp': 1618760115138, 'datapoint': 2.3}, {'timestamp': 1618760115139, 'datapoint': 4.9}, {'timestamp': 1618760115140, 'datapoint': 4.2}, {'timestamp': 1618760115141, 'datapoint': 1.5}, {'timestamp': 1618760115142, 'datapoint': 1.2}, {'timestamp': 1618760115143, 'datapoint': 0.6}, {'timestamp': 1618760115144, 'datapoint': 4.8}, {'timestamp': 1618760115145, 'datapoint': 1.1}, {'timestamp': 1618760115146, 'datapoint': 2}, {'timestamp': 1618760115147, 'datapoint': 2.7}, {'timestamp': 1618760115148, 'datapoint': 3.2}, {'timestamp': 1618760115149, 'datapoint': 1.9}, {'timestamp': 1618760115150, 'datapoint': 4.6}, {'timestamp': 1618760115151, 'datapoint': 1.3}, {'timestamp': 1618760115152, 'datapoint': 2.2}, {'timestamp': 1618760115153, 'datapoint': 1.6}, {'timestamp': 1618760115154, 'datapoint': 1.7}, {'timestamp': 1618760115155, 'datapoint': 3.6}, {'timestamp': 1618760115156, 'datapoint': 4.2}, {'timestamp': 1618760115157, 'datapoint': 4.3}, {'timestamp': 1618760115158, 'datapoint': 0.2}, {'timestamp': 1618760115159, 'datapoint': 3.8}, {'timestamp': 1618760115160, 'datapoint': 3}, {'timestamp': 1618760115161, 'datapoint': 3}, {'timestamp': 1618760115162, 'datapoint': 1.7}, {'timestamp': 1618760115163, 'datapoint': 2.1}, {'timestamp': 1618760115164, 'datapoint': 3.4}, {'timestamp': 1618760115165, 'datapoint': 3.8}, {'timestamp': 1618760115166, 'datapoint': 1.9}, {'timestamp': 1618760115167, 'datapoint': 0.4}, {'timestamp': 1618760115168, 'datapoint': 5}, {'timestamp': 1618760115169, 'datapoint': 3}, {'timestamp': 1618760115170, 'datapoint': 4.3}, {'timestamp': 1618760115171, 'datapoint': 1.3}, {'timestamp': 1618760115172, 'datapoint': 1.2}, {'timestamp': 1618760115173, 'datapoint': 4.1}, {'timestamp': 1618760115174, 'datapoint': 1.1}, {'timestamp': 1618760115175, 'datapoint': 4.3}, {'timestamp': 1618760115176, 'datapoint': 0.9}, {'timestamp': 1618760115177, 'datapoint': 0.4}, {'timestamp': 1618760115178, 'datapoint': 0.1}, {'timestamp': 1618760115179, 'datapoint': 2.2}, {'timestamp': 1618760115180, 'datapoint': 3.5}, {'timestamp': 1618760115181, 'datapoint': 0.9}, {'timestamp': 1618760115182, 'datapoint': 1.3}, {'timestamp': 1618760115183, 'datapoint': 2}, {'timestamp': 1618760115184, 'datapoint': 3.5}, {'timestamp': 1618760115185, 'datapoint': 2.7}, {'timestamp': 1618760115186, 'datapoint': 4.8}, {'timestamp': 1618760115187, 'datapoint': 2.1}, {'timestamp': 1618760115188, 'datapoint': 1.2}, {'timestamp': 1618760115189, 'datapoint': 2.5}, {'timestamp': 1618760115190, 'datapoint': 4.7}, {'timestamp': 1618760115191, 'datapoint': 4.7}, {'timestamp': 1618760115192, 'datapoint': 1.7}, {'timestamp': 1618760115193, 'datapoint': 3.3}, {'timestamp': 1618760115194, 'datapoint': 0.7}, {'timestamp': 1618760115195, 'datapoint': 2.6}, {'timestamp': 1618760115196, 'datapoint': 2.2}, {'timestamp': 1618760115197, 'datapoint': 1.1}, {'timestamp': 1618760115198, 'datapoint': 3.6}, {'timestamp': 1618760115199, 'datapoint': 0.6}, {'timestamp': 1618760115200, 'datapoint': 0.7}, {'timestamp': 1618760115201, 'datapoint': 4.6}, {'timestamp': 1618760115202, 'datapoint': 2.7}, {'timestamp': 1618760115203, 'datapoint': 2}, {'timestamp': 1618760115204, 'datapoint': 3.7}, {'timestamp': 1618760115205, 'datapoint': 4.3}, {'timestamp': 1618760115206, 'datapoint': 0.5}, {'timestamp': 1618760115207, 'datapoint': 5}, {'timestamp': 1618760115208, 'datapoint': 2.8}, {'timestamp': 1618760115209, 'datapoint': 4.7}, {'timestamp': 1618760115210, 'datapoint': 0.4}, {'timestamp': 1618760115211, 'datapoint': 4.6}, {'timestamp': 1618760115212, 'datapoint': 4.7}, {'timestamp': 1618760115213, 'datapoint': 4.8}, {'timestamp': 1618760115214, 'datapoint': 1.6}, {'timestamp': 1618760115215, 'datapoint': 1.2}, {'timestamp': 1618760115216, 'datapoint': 3.6}, {'timestamp': 1618760115217, 'datapoint': 1.6}, {'timestamp': 1618760115218, 'datapoint': 1.1}, {'timestamp': 1618760115219, 'datapoint': 1.5}, {'timestamp': 1618760115220, 'datapoint': 2.8}, {'timestamp': 1618760115221, 'datapoint': 4.3}, {'timestamp': 1618760115222, 'datapoint': 1.2}, {'timestamp': 1618760115223, 'datapoint': 2}, {'timestamp': 1618760115224, 'datapoint': 2.8}, {'timestamp': 1618760115225, 'datapoint': 0.1}, {'timestamp': 1618760115226, 'datapoint': 4.7}, {'timestamp': 1618760115227, 'datapoint': 2}, {'timestamp': 1618760115228, 'datapoint': 0.9}, {'timestamp': 1618760115229, 'datapoint': 1.5}, {'timestamp': 1618760115230, 'datapoint': 1}, {'timestamp': 1618760115231, 'datapoint': 3.2}, {'timestamp': 1618760115232, 'datapoint': 2.4}, {'timestamp': 1618760115233, 'datapoint': 1.7}, {'timestamp': 1618760115234, 'datapoint': 1.4}, {'timestamp': 1618760115235, 'datapoint': 1.1}, {'timestamp': 1618760115236, 'datapoint': 1.3}, {'timestamp': 1618760115237, 'datapoint': 1}, {'timestamp': 1618760115238, 'datapoint': 3.3}, {'timestamp': 1618760115239, 'datapoint': 1.5}, {'timestamp': 1618760115240, 'datapoint': 0.3}, {'timestamp': 1618760115241, 'datapoint': 4.2}, {'timestamp': 1618760115242, 'datapoint': 2.7}, {'timestamp': 1618760115243, 'datapoint': 0.6}, {'timestamp': 1618760115244, 'datapoint': 3.5}, {'timestamp': 1618760115245, 'datapoint': 2.7}, {'timestamp': 1618760115246, 'datapoint': 2.2}, {'timestamp': 1618760115247, 'datapoint': 2.3}, {'timestamp': 1618760115248, 'datapoint': 1.8}, {'timestamp': 1618760115249, 'datapoint': 2.5}, {'timestamp': 1618760115250, 'datapoint': 2}, {'timestamp': 1618760115251, 'datapoint': 2.1}, {'timestamp': 1618760115252, 'datapoint': 0.5}, {'timestamp': 1618760115253, 'datapoint': 2.9}, {'timestamp': 1618760115254, 'datapoint': 2.3}, {'timestamp': 1618760115255, 'datapoint': 1.9}, {'timestamp': 1618760115256, 'datapoint': 1.3}, {'timestamp': 1618760115257, 'datapoint': 2.7}, {'timestamp': 1618760115258, 'datapoint': 3.7}, {'timestamp': 1618760115259, 'datapoint': 2.3}, {'timestamp': 1618760115260, 'datapoint': 2.2}, {'timestamp': 1618760115261, 'datapoint': 4}, {'timestamp': 1618760115262, 'datapoint': 3.5}, {'timestamp': 1618760115263, 'datapoint': 4.4}, {'timestamp': 1618760115264, 'datapoint': 4.3}, {'timestamp': 1618760115265, 'datapoint': 1.6}, {'timestamp': 1618760115266, 'datapoint': 3.2}, {'timestamp': 1618760115267, 'datapoint': 1.9}, {'timestamp': 1618760115268, 'datapoint': 3.6}, {'timestamp': 1618760115269, 'datapoint': 3.7}, {'timestamp': 1618760115270, 'datapoint': 0.2}, {'timestamp': 1618760115271, 'datapoint': 0.4}, {'timestamp': 1618760115272, 'datapoint': 2.7}, {'timestamp': 1618760115273, 'datapoint': 2.3}, {'timestamp': 1618760115274, 'datapoint': 2}, {'timestamp': 1618760115275, 'datapoint': 0.7}, {'timestamp': 1618760115276, 'datapoint': 0.6}, {'timestamp': 1618760115277, 'datapoint': 1.8}, {'timestamp': 1618760115278, 'datapoint': 4.6}, {'timestamp': 1618760115279, 'datapoint': 2}, {'timestamp': 1618760115280, 'datapoint': 0.8}, {'timestamp': 1618760115281, 'datapoint': 2}, {'timestamp': 1618760115282, 'datapoint': 0.6}, {'timestamp': 1618760115283, 'datapoint': 1.6}, {'timestamp': 1618760115284, 'datapoint': 1}, {'timestamp': 1618760115285, 'datapoint': 1.4}, {'timestamp': 1618760115286, 'datapoint': 3}, {'timestamp': 1618760115287, 'datapoint': 0.4}, {'timestamp': 1618760115288, 'datapoint': 4.8}, {'timestamp': 1618760115289, 'datapoint': 0.1}, {'timestamp': 1618760115290, 'datapoint': 1.2}, {'timestamp': 1618760115291, 'datapoint': 2.5}, {'timestamp': 1618760115292, 'datapoint': 4.7}, {'timestamp': 1618760115293, 'datapoint': 3}, {'timestamp': 1618760115294, 'datapoint': 3.9}, {'timestamp': 1618760115295, 'datapoint': 0.8}, {'timestamp': 1618760115296, 'datapoint': 5}, {'timestamp': 1618760115297, 'datapoint': 2.4}, {'timestamp': 1618760115298, 'datapoint': 2.5}, {'timestamp': 1618760115299, 'datapoint': 1.8}, {'timestamp': 1618760115300, 'datapoint': 1.9}, {'timestamp': 1618760115301, 'datapoint': 0.5}, {'timestamp': 1618760115302, 'datapoint': 0.1}, {'timestamp': 1618760115303, 'datapoint': 2.1}, {'timestamp': 1618760115304, 'datapoint': 3.6}, {'timestamp': 1618760115305, 'datapoint': 2.1}, {'timestamp': 1618760115306, 'datapoint': 1.8}, {'timestamp': 1618760115307, 'datapoint': 3.3}, {'timestamp': 1618760115308, 'datapoint': 1.7}, {'timestamp': 1618760115309, 'datapoint': 3.6}, {'timestamp': 1618760115310, 'datapoint': 0.9}, {'timestamp': 1618760115311, 'datapoint': 4.1}, {'timestamp': 1618760115312, 'datapoint': 2.1}, {'timestamp': 1618760115313, 'datapoint': 2.6}, {'timestamp': 1618760115314, 'datapoint': 5}, {'timestamp': 1618760115315, 'datapoint': 4.4}, {'timestamp': 1618760115316, 'datapoint': 0.3}, {'timestamp': 1618760115317, 'datapoint': 4.9}, {'timestamp': 1618760115318, 'datapoint': 2}, {'timestamp': 1618760115319, 'datapoint': 1.5}, {'timestamp': 1618760115320, 'datapoint': 0.2}, {'timestamp': 1618760115321, 'datapoint': 2.6}, {'timestamp': 1618760115322, 'datapoint': 2.4}, {'timestamp': 1618760115323, 'datapoint': 1}, {'timestamp': 1618760115324, 'datapoint': 1.4}, {'timestamp': 1618760115325, 'datapoint': 0.7}, {'timestamp': 1618760115326, 'datapoint': 0.4}, {'timestamp': 1618760115327, 'datapoint': 4.3}, {'timestamp': 1618760115328, 'datapoint': 2.9}, {'timestamp': 1618760115329, 'datapoint': 1.2}, {'timestamp': 1618760115330, 'datapoint': 2.5}, {'timestamp': 1618760115331, 'datapoint': 4.6}, {'timestamp': 1618760115332, 'datapoint': 0.9}, {'timestamp': 1618760115333, 'datapoint': 1}, {'timestamp': 1618760115334, 'datapoint': 3.2}, {'timestamp': 1618760115335, 'datapoint': 2.4}, {'timestamp': 1618760115336, 'datapoint': 3}, {'timestamp': 1618760115337, 'datapoint': 3.6}, {'timestamp': 1618760115338, 'datapoint': 2.5}, {'timestamp': 1618760115339, 'datapoint': 1}, {'timestamp': 1618760115340, 'datapoint': 1.9}, {'timestamp': 1618760115341, 'datapoint': 3.4}, {'timestamp': 1618760115342, 'datapoint': 1.3}, {'timestamp': 1618760115343, 'datapoint': 0.5}, {'timestamp': 1618760115344, 'datapoint': 0.1}, {'timestamp': 1618760115345, 'datapoint': 4.8}, {'timestamp': 1618760115346, 'datapoint': 1}, {'timestamp': 1618760115347, 'datapoint': 3.9}, {'timestamp': 1618760115348, 'datapoint': 2.6}, {'timestamp': 1618760115349, 'datapoint': 2.4}, {'timestamp': 1618760115350, 'datapoint': 4.2}, {'timestamp': 1618760115351, 'datapoint': 3.2}, {'timestamp': 1618760115352, 'datapoint': 1.5}, {'timestamp': 1618760115353, 'datapoint': 0.2}, {'timestamp': 1618760115354, 'datapoint': 0.3}, {'timestamp': 1618760115355, 'datapoint': 4.6}, {'timestamp': 1618760115356, 'datapoint': 2.9}, {'timestamp': 1618760115357, 'datapoint': 3.7}, {'timestamp': 1618760115358, 'datapoint': 2.4}, {'timestamp': 1618760115359, 'datapoint': 2.3}, {'timestamp': 1618760115360, 'datapoint': 3.9}, {'timestamp': 1618760115361, 'datapoint': 4.3}, {'timestamp': 1618760115362, 'datapoint': 3}, {'timestamp': 1618760115363, 'datapoint': 4.6}, {'timestamp': 1618760115364, 'datapoint': 4.8}, {'timestamp': 1618760115365, 'datapoint': 2}, {'timestamp': 1618760115366, 'datapoint': 2.3}, {'timestamp': 1618760115367, 'datapoint': 3.7}, {'timestamp': 1618760115368, 'datapoint': 4.2}, {'timestamp': 1618760115369, 'datapoint': 3.2}, {'timestamp': 1618760115370, 'datapoint': 3.6}, {'timestamp': 1618760115371, 'datapoint': 4.2}, {'timestamp': 1618760115372, 'datapoint': 3.7}, {'timestamp': 1618760115373, 'datapoint': 3}, {'timestamp': 1618760115374, 'datapoint': 1.9}, {'timestamp': 1618760115375, 'datapoint': 1.7}, {'timestamp': 1618760115376, 'datapoint': 4.5}, {'timestamp': 1618760115377, 'datapoint': 2}, {'timestamp': 1618760115378, 'datapoint': 2.4}, {'timestamp': 1618760115379, 'datapoint': 1.7}, {'timestamp': 1618760115380, 'datapoint': 0.7}, {'timestamp': 1618760115381, 'datapoint': 0.9}, {'timestamp': 1618760115382, 'datapoint': 3}, {'timestamp': 1618760115383, 'datapoint': 0.7}, {'timestamp': 1618760115384, 'datapoint': 4.7}, {'timestamp': 1618760115385, 'datapoint': 3.2}, {'timestamp': 1618760115386, 'datapoint': 3.3}, {'timestamp': 1618760115387, 'datapoint': 2.6}, {'timestamp': 1618760115388, 'datapoint': 2.4}, {'timestamp': 1618760115389, 'datapoint': 0.3}, {'timestamp': 1618760115390, 'datapoint': 0.4}, {'timestamp': 1618760115391, 'datapoint': 5}, {'timestamp': 1618760115392, 'datapoint': 3.7}, {'timestamp': 1618760115393, 'datapoint': 4.6}, {'timestamp': 1618760115394, 'datapoint': 4.3}, {'timestamp': 1618760115395, 'datapoint': 3.7}, {'timestamp': 1618760115396, 'datapoint': 2.3}, {'timestamp': 1618760115397, 'datapoint': 2.4}, {'timestamp': 1618760115398, 'datapoint': 0.3}, {'timestamp': 1618760115399, 'datapoint': 2.5}, {'timestamp': 1618760115400, 'datapoint': 1.8}, {'timestamp': 1618760115401, 'datapoint': 0.1}, {'timestamp': 1618760115402, 'datapoint': 1.1}, {'timestamp': 1618760115403, 'datapoint': 0.3}, {'timestamp': 1618760115404, 'datapoint': 3.8}, {'timestamp': 1618760115405, 'datapoint': 4.6}, {'timestamp': 1618760115406, 'datapoint': 1.1}, {'timestamp': 1618760115407, 'datapoint': 3.1}, {'timestamp': 1618760115408, 'datapoint': 2.6}, {'timestamp': 1618760115409, 'datapoint': 4.4}, {'timestamp': 1618760115410, 'datapoint': 4.7}, {'timestamp': 1618760115411, 'datapoint': 1.6}, {'timestamp': 1618760115412, 'datapoint': 1.4}, {'timestamp': 1618760115413, 'datapoint': 3}, {'timestamp': 1618760115414, 'datapoint': 3.6}, {'timestamp': 1618760115415, 'datapoint': 2.9}, {'timestamp': 1618760115416, 'datapoint': 0.2}, {'timestamp': 1618760115417, 'datapoint': 3.7}, {'timestamp': 1618760115418, 'datapoint': 0.9}, {'timestamp': 1618760115419, 'datapoint': 3.8}, {'timestamp': 1618760115420, 'datapoint': 2.3}, {'timestamp': 1618760115421, 'datapoint': 4}, {'timestamp': 1618760115422, 'datapoint': 4}, {'timestamp': 1618760115423, 'datapoint': 5}, {'timestamp': 1618760115424, 'datapoint': 1.1}, {'timestamp': 1618760115425, 'datapoint': 3.4}, {'timestamp': 1618760115426, 'datapoint': 2.9}, {'timestamp': 1618760115427, 'datapoint': 0.8}, {'timestamp': 1618760115428, 'datapoint': 3.1}, {'timestamp': 1618760115429, 'datapoint': 1.5}, {'timestamp': 1618760115430, 'datapoint': 5}, {'timestamp': 1618760115431, 'datapoint': 4}, {'timestamp': 1618760115432, 'datapoint': 4.6}, {'timestamp': 1618760115433, 'datapoint': 0.8}, {'timestamp': 1618760115434, 'datapoint': 3}, {'timestamp': 1618760115435, 'datapoint': 0.5}, {'timestamp': 1618760115436, 'datapoint': 2.9}, {'timestamp': 1618760115437, 'datapoint': 4.7}, {'timestamp': 1618760115438, 'datapoint': 0.9}, {'timestamp': 1618760115439, 'datapoint': 0.1}, {'timestamp': 1618760115440, 'datapoint': 2.6}, {'timestamp': 1618760115441, 'datapoint': 0.4}, {'timestamp': 1618760115442, 'datapoint': 4.7}, {'timestamp': 1618760115443, 'datapoint': 2.7}, {'timestamp': 1618760115444, 'datapoint': 4.1}, {'timestamp': 1618760115445, 'datapoint': 4.1}, {'timestamp': 1618760115446, 'datapoint': 4.9}, {'timestamp': 1618760115447, 'datapoint': 4.5}, {'timestamp': 1618760115448, 'datapoint': 3.6}, {'timestamp': 1618760115449, 'datapoint': 3.5}, {'timestamp': 1618760115450, 'datapoint': 1.8}, {'timestamp': 1618760115451, 'datapoint': 0.5}, {'timestamp': 1618760115452, 'datapoint': 2.8}, {'timestamp': 1618760115453, 'datapoint': 3}, {'timestamp': 1618760115454, 'datapoint': 2.4}, {'timestamp': 1618760115455, 'datapoint': 2.2}, {'timestamp': 1618760115456, 'datapoint': 2.8}, {'timestamp': 1618760115457, 'datapoint': 0.9}, {'timestamp': 1618760115458, 'datapoint': 0.4}, {'timestamp': 1618760115459, 'datapoint': 3}, {'timestamp': 1618760115460, 'datapoint': 3.6}, {'timestamp': 1618760115461, 'datapoint': 5}, {'timestamp': 1618760115462, 'datapoint': 5}, {'timestamp': 1618760115463, 'datapoint': 2.6}, {'timestamp': 1618760115464, 'datapoint': 2.1}, {'timestamp': 1618760115465, 'datapoint': 1}, {'timestamp': 1618760115466, 'datapoint': 3.6}, {'timestamp': 1618760115467, 'datapoint': 4.1}, {'timestamp': 1618760115468, 'datapoint': 0.7}, {'timestamp': 1618760115469, 'datapoint': 3.6}, {'timestamp': 1618760115470, 'datapoint': 3.7}, {'timestamp': 1618760115471, 'datapoint': 2.4}, {'timestamp': 1618760115472, 'datapoint': 0.1}, {'timestamp': 1618760115473, 'datapoint': 1.4}, {'timestamp': 1618760115474, 'datapoint': 5}, {'timestamp': 1618760115475, 'datapoint': 0.6}, {'timestamp': 1618760115476, 'datapoint': 3.4}, {'timestamp': 1618760115477, 'datapoint': 3}, {'timestamp': 1618760115478, 'datapoint': 4.6}, {'timestamp': 1618760115479, 'datapoint': 4}, {'timestamp': 1618760115480, 'datapoint': 4.1}, {'timestamp': 1618760115481, 'datapoint': 0.9}, {'timestamp': 1618760115482, 'datapoint': 1}, {'timestamp': 1618760115483, 'datapoint': 2.9}, {'timestamp': 1618760115484, 'datapoint': 4.6}, {'timestamp': 1618760115485, 'datapoint': 3}, {'timestamp': 1618760115486, 'datapoint': 1.4}, {'timestamp': 1618760115487, 'datapoint': 4.5}, {'timestamp': 1618760115488, 'datapoint': 1.9}, {'timestamp': 1618760115489, 'datapoint': 4.7}, {'timestamp': 1618760115490, 'datapoint': 5}, {'timestamp': 1618760115491, 'datapoint': 0.1}, {'timestamp': 1618760115492, 'datapoint': 1.1}, {'timestamp': 1618760115493, 'datapoint': 4.6}, {'timestamp': 1618760115494, 'datapoint': 1.1}, {'timestamp': 1618760115495, 'datapoint': 3.3}, {'timestamp': 1618760115496, 'datapoint': 4}, {'timestamp': 1618760115497, 'datapoint': 4.8}, {'timestamp': 1618760115498, 'datapoint': 0.1}, {'timestamp': 1618760115499, 'datapoint': 2.8}]\n"
     ]
    }
   ],
   "source": [
    "project = edgeml.getProject(\"http://localhost\", key)\n",
    "dataPoints = project['datasets'][0]['sensors'][0]['data']\n",
    "print(dataPoints)"
   ]
  },
  {
   "cell_type": "code",
   "execution_count": 14,
   "metadata": {},
   "outputs": [
    {
     "name": "stdout",
     "output_type": "stream",
     "text": [
      "      id  sensor1\n",
      "0      0      1.0\n",
      "1      1      1.9\n",
      "2      2      4.8\n",
      "3      3      0.6\n",
      "4      4      4.3\n",
      "..   ...      ...\n",
      "495  495      3.3\n",
      "496  496      4.0\n",
      "497  497      4.8\n",
      "498  498      0.1\n",
      "499  499      2.8\n",
      "\n",
      "[500 rows x 2 columns]\n"
     ]
    }
   ],
   "source": [
    "values = {'id': [i for i in range(500)], 'sensor1': []}\n",
    "for dataPoint in dataPoints:\n",
    "    values['sensor1'].append(dataPoint['datapoint'])\n",
    "dataFrame = pd.DataFrame(values)\n",
    "print(dataFrame)"
   ]
  },
  {
   "cell_type": "code",
   "execution_count": 15,
   "metadata": {},
   "outputs": [
    {
     "name": "stderr",
     "output_type": "stream",
     "text": [
      "Feature Extraction: 100%|██████████| 30/30 [00:00<00:00, 327.22it/s]"
     ]
    },
    {
     "name": "stdout",
     "output_type": "stream",
     "text": [
      "     sensor1__sum_values  sensor1__median  sensor1__mean  sensor1__length  \\\n",
      "0                    1.0              1.0            1.0              1.0   \n",
      "1                    1.9              1.9            1.9              1.0   \n",
      "2                    4.8              4.8            4.8              1.0   \n",
      "3                    0.6              0.6            0.6              1.0   \n",
      "4                    4.3              4.3            4.3              1.0   \n",
      "..                   ...              ...            ...              ...   \n",
      "495                  3.3              3.3            3.3              1.0   \n",
      "496                  4.0              4.0            4.0              1.0   \n",
      "497                  4.8              4.8            4.8              1.0   \n",
      "498                  0.1              0.1            0.1              1.0   \n",
      "499                  2.8              2.8            2.8              1.0   \n",
      "\n",
      "     sensor1__standard_deviation  sensor1__variance  \\\n",
      "0                            0.0                0.0   \n",
      "1                            0.0                0.0   \n",
      "2                            0.0                0.0   \n",
      "3                            0.0                0.0   \n",
      "4                            0.0                0.0   \n",
      "..                           ...                ...   \n",
      "495                          0.0                0.0   \n",
      "496                          0.0                0.0   \n",
      "497                          0.0                0.0   \n",
      "498                          0.0                0.0   \n",
      "499                          0.0                0.0   \n",
      "\n",
      "     sensor1__root_mean_square  sensor1__maximum  sensor1__minimum  \n",
      "0                          1.0               1.0               1.0  \n",
      "1                          1.9               1.9               1.9  \n",
      "2                          4.8               4.8               4.8  \n",
      "3                          0.6               0.6               0.6  \n",
      "4                          4.3               4.3               4.3  \n",
      "..                         ...               ...               ...  \n",
      "495                        3.3               3.3               3.3  \n",
      "496                        4.0               4.0               4.0  \n",
      "497                        4.8               4.8               4.8  \n",
      "498                        0.1               0.1               0.1  \n",
      "499                        2.8               2.8               2.8  \n",
      "\n",
      "[500 rows x 9 columns]\n"
     ]
    },
    {
     "name": "stderr",
     "output_type": "stream",
     "text": [
      "\n"
     ]
    }
   ],
   "source": [
    "settings = tsfresh.feature_extraction.settings.MinimalFCParameters()\n",
    "extracted = tsfresh.extract_features(dataFrame, column_id=\"id\", default_fc_parameters=settings)\n",
    "print(extracted)"
   ]
  },
  {
   "cell_type": "code",
   "execution_count": 16,
   "metadata": {},
   "outputs": [],
   "source": [
    "from sklearn.model_selection import train_test_split\n",
    "x_train, x_test, y_train, y_test = train_test_split(extracted, labels, random_state = 5)\n"
   ]
  },
  {
   "cell_type": "code",
   "execution_count": 17,
   "metadata": {},
   "outputs": [
    {
     "data": {
      "text/html": [
       "<div>\n",
       "<style scoped>\n",
       "    .dataframe tbody tr th:only-of-type {\n",
       "        vertical-align: middle;\n",
       "    }\n",
       "\n",
       "    .dataframe tbody tr th {\n",
       "        vertical-align: top;\n",
       "    }\n",
       "\n",
       "    .dataframe thead th {\n",
       "        text-align: right;\n",
       "    }\n",
       "</style>\n",
       "<table border=\"1\" class=\"dataframe\">\n",
       "  <thead>\n",
       "    <tr style=\"text-align: right;\">\n",
       "      <th></th>\n",
       "      <th>sensor1__sum_values</th>\n",
       "      <th>sensor1__median</th>\n",
       "      <th>sensor1__mean</th>\n",
       "      <th>sensor1__length</th>\n",
       "      <th>sensor1__standard_deviation</th>\n",
       "      <th>sensor1__variance</th>\n",
       "      <th>sensor1__root_mean_square</th>\n",
       "      <th>sensor1__maximum</th>\n",
       "      <th>sensor1__minimum</th>\n",
       "    </tr>\n",
       "  </thead>\n",
       "  <tbody>\n",
       "    <tr>\n",
       "      <th>count</th>\n",
       "      <td>375.000000</td>\n",
       "      <td>375.000000</td>\n",
       "      <td>375.000000</td>\n",
       "      <td>375.0</td>\n",
       "      <td>375.0</td>\n",
       "      <td>375.0</td>\n",
       "      <td>375.000000</td>\n",
       "      <td>375.000000</td>\n",
       "      <td>375.000000</td>\n",
       "    </tr>\n",
       "    <tr>\n",
       "      <th>mean</th>\n",
       "      <td>-0.008640</td>\n",
       "      <td>-0.008640</td>\n",
       "      <td>-0.008640</td>\n",
       "      <td>0.0</td>\n",
       "      <td>0.0</td>\n",
       "      <td>0.0</td>\n",
       "      <td>-0.008640</td>\n",
       "      <td>-0.008640</td>\n",
       "      <td>-0.008640</td>\n",
       "    </tr>\n",
       "    <tr>\n",
       "      <th>std</th>\n",
       "      <td>0.581517</td>\n",
       "      <td>0.581517</td>\n",
       "      <td>0.581517</td>\n",
       "      <td>0.0</td>\n",
       "      <td>0.0</td>\n",
       "      <td>0.0</td>\n",
       "      <td>0.581517</td>\n",
       "      <td>0.581517</td>\n",
       "      <td>0.581517</td>\n",
       "    </tr>\n",
       "    <tr>\n",
       "      <th>min</th>\n",
       "      <td>-1.000000</td>\n",
       "      <td>-1.000000</td>\n",
       "      <td>-1.000000</td>\n",
       "      <td>0.0</td>\n",
       "      <td>0.0</td>\n",
       "      <td>0.0</td>\n",
       "      <td>-1.000000</td>\n",
       "      <td>-1.000000</td>\n",
       "      <td>-1.000000</td>\n",
       "    </tr>\n",
       "    <tr>\n",
       "      <th>25%</th>\n",
       "      <td>-0.520000</td>\n",
       "      <td>-0.520000</td>\n",
       "      <td>-0.520000</td>\n",
       "      <td>0.0</td>\n",
       "      <td>0.0</td>\n",
       "      <td>0.0</td>\n",
       "      <td>-0.520000</td>\n",
       "      <td>-0.520000</td>\n",
       "      <td>-0.520000</td>\n",
       "    </tr>\n",
       "    <tr>\n",
       "      <th>50%</th>\n",
       "      <td>0.000000</td>\n",
       "      <td>0.000000</td>\n",
       "      <td>0.000000</td>\n",
       "      <td>0.0</td>\n",
       "      <td>0.0</td>\n",
       "      <td>0.0</td>\n",
       "      <td>0.000000</td>\n",
       "      <td>0.000000</td>\n",
       "      <td>0.000000</td>\n",
       "    </tr>\n",
       "    <tr>\n",
       "      <th>75%</th>\n",
       "      <td>0.480000</td>\n",
       "      <td>0.480000</td>\n",
       "      <td>0.480000</td>\n",
       "      <td>0.0</td>\n",
       "      <td>0.0</td>\n",
       "      <td>0.0</td>\n",
       "      <td>0.480000</td>\n",
       "      <td>0.480000</td>\n",
       "      <td>0.480000</td>\n",
       "    </tr>\n",
       "    <tr>\n",
       "      <th>max</th>\n",
       "      <td>0.960000</td>\n",
       "      <td>0.960000</td>\n",
       "      <td>0.960000</td>\n",
       "      <td>0.0</td>\n",
       "      <td>0.0</td>\n",
       "      <td>0.0</td>\n",
       "      <td>0.960000</td>\n",
       "      <td>0.960000</td>\n",
       "      <td>0.960000</td>\n",
       "    </tr>\n",
       "  </tbody>\n",
       "</table>\n",
       "</div>"
      ],
      "text/plain": [
       "       sensor1__sum_values  sensor1__median  sensor1__mean  sensor1__length  \\\n",
       "count           375.000000       375.000000     375.000000            375.0   \n",
       "mean             -0.008640        -0.008640      -0.008640              0.0   \n",
       "std               0.581517         0.581517       0.581517              0.0   \n",
       "min              -1.000000        -1.000000      -1.000000              0.0   \n",
       "25%              -0.520000        -0.520000      -0.520000              0.0   \n",
       "50%               0.000000         0.000000       0.000000              0.0   \n",
       "75%               0.480000         0.480000       0.480000              0.0   \n",
       "max               0.960000         0.960000       0.960000              0.0   \n",
       "\n",
       "       sensor1__standard_deviation  sensor1__variance  \\\n",
       "count                        375.0              375.0   \n",
       "mean                           0.0                0.0   \n",
       "std                            0.0                0.0   \n",
       "min                            0.0                0.0   \n",
       "25%                            0.0                0.0   \n",
       "50%                            0.0                0.0   \n",
       "75%                            0.0                0.0   \n",
       "max                            0.0                0.0   \n",
       "\n",
       "       sensor1__root_mean_square  sensor1__maximum  sensor1__minimum  \n",
       "count                 375.000000        375.000000        375.000000  \n",
       "mean                   -0.008640         -0.008640         -0.008640  \n",
       "std                     0.581517          0.581517          0.581517  \n",
       "min                    -1.000000         -1.000000         -1.000000  \n",
       "25%                    -0.520000         -0.520000         -0.520000  \n",
       "50%                     0.000000          0.000000          0.000000  \n",
       "75%                     0.480000          0.480000          0.480000  \n",
       "max                     0.960000          0.960000          0.960000  "
      ]
     },
     "execution_count": 17,
     "metadata": {},
     "output_type": "execute_result"
    }
   ],
   "source": [
    "from sklearn.preprocessing import RobustScaler\n",
    "scaler = RobustScaler()\n",
    "scaler.fit(x_train)\n",
    "trans_x_train = scaler.transform(x_train)\n",
    "trans_x_test = scaler.transform(x_test)\n",
    "trans_x_train = pd.DataFrame(trans_x_train,columns=x_train.columns)\n",
    "trans_x_train.describe()"
   ]
  },
  {
   "cell_type": "code",
   "execution_count": 18,
   "metadata": {},
   "outputs": [
    {
     "data": {
      "text/plain": [
       "RandomForestClassifier()"
      ]
     },
     "execution_count": 18,
     "metadata": {},
     "output_type": "execute_result"
    }
   ],
   "source": [
    "from sklearn.ensemble import RandomForestClassifier\n",
    "clf = RandomForestClassifier()\n",
    "clf.fit(trans_x_train,y_train)\n"
   ]
  },
  {
   "cell_type": "code",
   "execution_count": 19,
   "metadata": {},
   "outputs": [
    {
     "name": "stdout",
     "output_type": "stream",
     "text": [
      "accuracy_score train : 0.5066666666666667\n"
     ]
    }
   ],
   "source": [
    "from sklearn.metrics import accuracy_score\n",
    "prediction = clf.predict(trans_x_train)\n",
    "print(\"accuracy_score train :\", accuracy_score(y_train,prediction))"
   ]
  }
 ],
 "metadata": {
  "interpreter": {
   "hash": "916dbcbb3f70747c44a77c7bcd40155683ae19c65e1c03b4aa3499c5328201f1"
  },
  "kernelspec": {
   "display_name": "Python 3.8.10 64-bit",
   "language": "python",
   "name": "python3"
  },
  "language_info": {
   "codemirror_mode": {
    "name": "ipython",
    "version": 3
   },
   "file_extension": ".py",
   "mimetype": "text/x-python",
   "name": "python",
   "nbconvert_exporter": "python",
   "pygments_lexer": "ipython3",
   "version": "3.8.10"
  },
  "orig_nbformat": 4
 },
 "nbformat": 4,
 "nbformat_minor": 2
}
