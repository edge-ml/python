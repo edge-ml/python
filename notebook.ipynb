{
 "cells": [
  {
   "cell_type": "code",
   "execution_count": 1,
   "metadata": {},
   "outputs": [],
   "source": [
    "from edgeml import edgeml\n",
    "import time\n",
    "import math"
   ]
  },
  {
   "cell_type": "markdown",
   "metadata": {},
   "source": [
    "# Globals"
   ]
  },
  {
   "cell_type": "code",
   "execution_count": null,
   "metadata": {},
   "outputs": [],
   "source": [
    "READ_KEY = \"YOUR_READ_KEY\"  # Replace with your actual read key\n",
    "WRITE_KEY = \"YOUR_WRITE_KEY\"  # Replace with your actual write key\n",
    "BACKEND_URL = \"YOUR_BACKEND_URL\"  # Replace with your actual backend URL"
   ]
  },
  {
   "cell_type": "markdown",
   "metadata": {},
   "source": [
    "# Upload randomly generated data to the server using the edge-ml python library"
   ]
  },
  {
   "cell_type": "markdown",
   "metadata": {},
   "source": [
    "### To upload data to edge-ml, we can use the DatasetCollector\n",
    "\n",
    "For this, we need to provide the following information:\n",
    "| **Parameter**         | **Description**                                                                 |\n",
    "|-----------------------|---------------------------------------------------------------------------------|\n",
    "| `url`                 | The URL to the edge-ml instance.                                                |\n",
    "| `write_key`           | The API key for writing into the system.                                       |\n",
    "| `use_own_timestamps`  | If `true`, users can pass timestamps to the collection function. Otherwise, timestamps are set by the `DatasetCollector`. |\n",
    "| `timeSeries`          | An array containing the names of the time series to be used.                   |\n",
    "| `metaData`            | A dictionary with metadata. Must contain only key-value pairs where both keys and values are strings. |"
   ]
  },
  {
   "cell_type": "code",
   "execution_count": 3,
   "metadata": {},
   "outputs": [],
   "source": [
    "datasetName = \"Example Dataset\"\n",
    "useOwnTimeStamps = False\n",
    "timeSeries = [\"Acc\", \"Mag\"]\n",
    "metaData = {}\n",
    "\n",
    "collector = edgeml.DatasetCollector(BACKEND_URL,\n",
    "                                    WRITE_KEY,\n",
    "                                    datasetName,\n",
    "                                    useOwnTimeStamps,\n",
    "                                    timeSeries,\n",
    "                                    metaData)"
   ]
  },
  {
   "cell_type": "markdown",
   "metadata": {},
   "source": [
    "### Now we can add data to this dataset\n",
    "\n",
    "For this we can call the addDataPoint-function.\n",
    "Don't forget to call onComplete after inserting all the data."
   ]
  },
  {
   "cell_type": "code",
   "execution_count": 4,
   "metadata": {},
   "outputs": [
    {
     "data": {
      "text/plain": [
       "True"
      ]
     },
     "execution_count": 4,
     "metadata": {},
     "output_type": "execute_result"
    }
   ],
   "source": [
    "timestamp = round(time.time() * 1000)\n",
    "for i in range(100):\n",
    "    timestamp += 40\n",
    "    x = i / 10000        # Adjust the divisor to control the frequency of the wave\n",
    "    y_acc = math.sin(x)  # Generate the y-coordinate for \"Acc\"\n",
    "    y_mag = math.cos(x)  # Generate the y-coordinate for \"Mag\"\n",
    "    await collector.addDataPoint(timestamp, \"Acc\", y_acc) \n",
    "    await collector.addDataPoint(timestamp, \"Mag\", y_mag) \n",
    "\n",
    "# signal data collection is complete. This uploads the remaining data to the server\n",
    "collector.onComplete()"
   ]
  },
  {
   "cell_type": "markdown",
   "metadata": {},
   "source": [
    "# Retrieve data from edge-ml\n",
    "\n",
    "It is also possible to obtain the datasets in a project. To do so use the DatasetReceiver"
   ]
  },
  {
   "cell_type": "code",
   "execution_count": 5,
   "metadata": {},
   "outputs": [
    {
     "name": "stdout",
     "output_type": "stream",
     "text": [
      "Dataset - Name: Example Dataset, ID: 682ee7d8a3130d2327595758, Metadata: {}\n",
      "{}\n"
     ]
    }
   ],
   "source": [
    "project = edgeml.DatasetReceiver(BACKEND_URL, READ_KEY)\n",
    "\n",
    "# See a single dataset\n",
    "print(project.datasets[0])\n",
    "# Or get some attribute from the dataset\n",
    "print(project.datasets[0].metaData)\n",
    "\n",
    "# Until now, we have only the metdata of the datasets.\n",
    "# We can also download the actual time-series data.\n",
    "\n",
    "# Only for one timeSeries:\n",
    "project.datasets[0].timeSeries[0].loadData()\n",
    "# Or for one dataset:\n",
    "project.datasets[0].loadData()\n",
    "# Or for all datasets:\n",
    "project.loadData()"
   ]
  },
  {
   "cell_type": "markdown",
   "metadata": {},
   "source": [
    "### Get the data in the dataset\n",
    "The datasets are provided as pandas dataframes"
   ]
  },
  {
   "cell_type": "code",
   "execution_count": 6,
   "metadata": {},
   "outputs": [
    {
     "name": "stdout",
     "output_type": "stream",
     "text": [
      "Dataset\n",
      "                     time     Acc  Mag\n",
      "0 2025-05-22 09:01:12.595  0.0000  1.0\n",
      "1 2025-05-22 09:01:12.635  0.0001  1.0\n",
      "2 2025-05-22 09:01:12.675  0.0002  1.0\n",
      "3 2025-05-22 09:01:12.715  0.0003  1.0\n",
      "4 2025-05-22 09:01:12.755  0.0004  1.0\n",
      "\n",
      "Timeseries\n",
      "                     time     Acc\n",
      "0 2025-05-22 09:01:12.595  0.0000\n",
      "1 2025-05-22 09:01:12.635  0.0001\n",
      "2 2025-05-22 09:01:12.675  0.0002\n",
      "3 2025-05-22 09:01:12.715  0.0003\n",
      "4 2025-05-22 09:01:12.755  0.0004\n",
      "\n",
      "#datasts:  11\n"
     ]
    }
   ],
   "source": [
    "# Access the data of a dataset\n",
    "print(\"Dataset\")\n",
    "print(project.datasets[0].data.head())\n",
    "\n",
    "print(\"\\nTimeseries\")\n",
    "# Or just one time series\n",
    "print(project.datasets[0].timeSeries[0].data.head())\n",
    "\n",
    "# Or get all dataset in a project as list\n",
    "project_data = project.data\n",
    "print(\"\\n#datasts: \", len(project_data))"
   ]
  },
  {
   "cell_type": "markdown",
   "metadata": {},
   "source": [
    "### Get the labels in the dataset"
   ]
  },
  {
   "cell_type": "code",
   "execution_count": 7,
   "metadata": {},
   "outputs": [
    {
     "data": {
      "text/plain": [
       "[]"
      ]
     },
     "execution_count": 7,
     "metadata": {},
     "output_type": "execute_result"
    }
   ],
   "source": [
    "project.datasets[0].labelings"
   ]
  },
  {
   "cell_type": "markdown",
   "metadata": {},
   "source": [
    "### Labeling in the project\n",
    "To labelings in a project define the labels"
   ]
  },
  {
   "cell_type": "code",
   "execution_count": 8,
   "metadata": {},
   "outputs": [
    {
     "data": {
      "text/plain": [
       "[{'_id': '682f07918245a094a595cdf5',\n",
       "  'name': 'test',\n",
       "  'labels': [{'name': 't1',\n",
       "    'color': '#0081DD',\n",
       "    '_id': '682f07918245a094a595cdf3'},\n",
       "   {'name': 't2', 'color': '#C24A5F', '_id': '682f07918245a094a595cdf4'}],\n",
       "  'projectId': '682ec257f42749f02e3a325f'}]"
      ]
     },
     "execution_count": 8,
     "metadata": {},
     "output_type": "execute_result"
    }
   ],
   "source": [
    "project.labelings"
   ]
  },
  {
   "cell_type": "code",
   "execution_count": null,
   "metadata": {},
   "outputs": [],
   "source": []
  }
 ],
 "metadata": {
  "kernelspec": {
   "display_name": "edgeml",
   "language": "python",
   "name": "python3"
  },
  "language_info": {
   "codemirror_mode": {
    "name": "ipython",
    "version": 3
   },
   "file_extension": ".py",
   "mimetype": "text/x-python",
   "name": "python",
   "nbconvert_exporter": "python",
   "pygments_lexer": "ipython3",
   "version": "3.10.0"
  },
  "orig_nbformat": 4
 },
 "nbformat": 4,
 "nbformat_minor": 2
}
